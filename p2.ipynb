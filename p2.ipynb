{
 "cells": [
  {
   "cell_type": "markdown",
   "metadata": {
    "collapsed": true
   },
   "source": [
    "<center>UNIVERSIDADE FEDERAL DO RIO GRANDE DO NORTE</center>\n",
    "<center>CENTRO DE TECNOLOGIA</center>\n",
    "<center>DEPARTAMENTO DE ENGENHARIA DE COMPUTAÇÃO E AUTOMAÇÃO</center>\n",
    "<center>DISCIPLINA DE PROCESSAMENTO DIGITAL DE SINAIS</center>"
   ]
  },
  {
   "cell_type": "markdown",
   "metadata": {},
   "source": [
    "<strong>ALUNO:</strong>  Eric Calasans de Barros \n",
    "\n",
    "<strong>MAT.:  </strong>20170155390\n",
    "\n",
    "<strong>PROF.:  </strong>Pedro Yochinori Gushiken"
   ]
  },
  {
   "cell_type": "markdown",
   "metadata": {},
   "source": [
    "<h1><center>PROVA - 2ª UNIDADE</center></h1>"
   ]
  },
  {
   "cell_type": "markdown",
   "metadata": {},
   "source": [
    "<h3>Questão 1:</h3>"
   ]
  },
  {
   "cell_type": "markdown",
   "metadata": {},
   "source": [
    ">Sejam os sinais $x_{a}(t) = sen(2 \\pi f_{1} t) + sen(2 \\pi f_{2} t) + sen(2 \\pi f_{3} t)$ e $x_{2}$ tal que:\n",
    "* $3 sen(2 \\pi f_{1} t)$, se $0 \\leq t < 1$\n",
    "* $3 sen(2 \\pi f_{2} t)$, se $1 \\leq t < 2$\n",
    "* $3 sen(2 \\pi f_{3} t)$, se $2 \\leq t < \\infty$\n",
    "\n",
    ">Conforme instruções dadas no escopo da prova, os valores de $f_{1}, f_{2}$ e $f_{3}$ são, respectivamente, para $a = 5, b = 3$ e $c = 9$:\n",
    "\n",
    "$$f_{1} = a = 5Hz$$\n",
    "\n",
    "$$f_{2} = 10a + b = 10.5 + 3 = 53Hz$$\n",
    "\n",
    "$$f_{3} = 100a + 10b + c = 100.5 + 10.3 + 9 = 539Hz$$\n",
    "\n",
    ">Assim, temos que os seguintes sinais:\n",
    "$$x_{a}(t) = sen(2 \\pi .5 t) + sen(2 \\pi .53 t) + sen(2 \\pi .539 t) = sen(10 \\pi t) + sen(106 \\pi t) + sen(1078 \\pi t)$$\n",
    "\n",
    ">E:\n",
    ">>>* $3 sen(10 \\pi t)$, se $0 \\leq t < 1$\n",
    ">>>* $3 sen(106 \\pi t)$, se $1 \\leq t < 2$\n",
    ">>>* $3 sen(1078 \\pi t)$, se $2 \\leq t < \\infty$\n",
    "\n",
    ">Ainda, segundo dados da prova, ambos os sinais foram amostrados a uma frequência de <b>10.000Hz</b> durante <b>3s</b>.  Dessa forma, cada amostra foi obtida a cada <b>$10^{-4}$s</b> e, em tempo discreto, obtemos $x_{1}[n]$:\n",
    "\n",
    "$$x_{1}[n] = sen(10 \\pi n) + sen(106 \\pi n) + sen(1078 \\pi n)$$ \n",
    "\n",
    "> e $x_{2}[n]:$\n",
    "\n",
    ">>>* $3 sen(10 \\pi t)$, se $0 \\leq n < 10000 $\n",
    ">>>* $3 sen(106 \\pi t)$, se $10000 \\leq n < 20000$\n",
    ">>>* $3 sen(1078 \\pi t)$, se $20000 \\leq n < 30000$"
   ]
  },
  {
   "cell_type": "markdown",
   "metadata": {},
   "source": [
    "<h3>a)</h3>\n",
    "\n",
    ">Sejam:\n",
    "\n",
    ">>* $\\Omega_{1} = 2 \\pi f_{1} = 10 \\pi$\n",
    ">>* $\\Omega_{2} = 2 \\pi f_{2} = 106 \\pi$\n",
    ">>* $\\Omega_{3} = 2 \\pi f_{3} = 1078 \\pi$\n",
    "\n",
    ">Pela tabela de <b>DTFT</b> e considerando $\\Omega$ <b>limitado em banda</b>, tal que $|\\Omega| < \\pi$:\n",
    "$$X(\\Omega) = \\frac{\\pi}{j} [\\delta (\\Omega - \\Omega_{0}) - \\delta (\\Omega + \\Omega_{0})]$$\n",
    "\n",
    ">Utilizando a propriedade da **LINEARIDADE**(homogeneidade e superposição) da DTFT:\n",
    "$$X_{1}(\\Omega) = \\frac{\\pi}{j} \\{[\\delta (\\Omega - \\Omega_{1}) - \\delta (\\Omega + \\Omega_{1})] + [\\delta (\\Omega - \\Omega_{2}) - \\delta (\\Omega + \\Omega_{2})] + [\\delta (\\Omega - \\Omega_{3}) - \\delta (\\Omega + \\Omega_{3})]\\}$$\n",
    "$$X_{1}(\\Omega) = \\frac{\\pi}{j} \\{[\\delta (\\Omega - 10 \\pi) - \\delta (\\Omega + 10 \\pi)] + [\\delta (\\Omega - 106 \\pi) - \\delta (\\Omega + 106 \\pi)] + [\\delta (\\Omega - 1078 \\pi) - \\delta (\\Omega + 1078 \\pi)]\\}$$\n",
    "\n",
    ">Para $X_{2}(\\Omega)$:\n",
    ">>>* $\\frac{\\pi}{j} [\\delta (\\Omega - 106 \\pi) - \\delta (\\Omega + 106 \\pi)]$, para $0 \\leq n < 10.000$\n",
    ">>>* $\\frac{\\pi}{j} [\\delta (\\Omega - 106 \\pi) - \\delta (\\Omega + 106 \\pi)]$, para $10.000 \\leq n < 20.000$\n",
    ">>>* $\\frac{\\pi}{j} [\\delta (\\Omega - 1078 \\pi) - \\delta (\\Omega + 1078 \\pi)]$, para $20.000 \\leq n < 30.000$"
   ]
  },
  {
   "cell_type": "markdown",
   "metadata": {},
   "source": []
  }
 ],
 "metadata": {
  "kernelspec": {
   "display_name": "Python 2",
   "language": "python",
   "name": "python2"
  },
  "language_info": {
   "codemirror_mode": {
    "name": "ipython",
    "version": 2
   },
   "file_extension": ".py",
   "mimetype": "text/x-python",
   "name": "python",
   "nbconvert_exporter": "python",
   "pygments_lexer": "ipython2",
   "version": "2.7.6"
  }
 },
 "nbformat": 4,
 "nbformat_minor": 0
}
