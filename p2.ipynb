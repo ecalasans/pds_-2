{
 "cells": [
  {
   "cell_type": "markdown",
   "metadata": {
    "collapsed": true
   },
   "source": [
    "<center>UNIVERSIDADE FEDERAL DO RIO GRANDE DO NORTE</center>\n",
    "<center>CENTRO DE TECNOLOGIA</center>\n",
    "<center>DEPARTAMENTO DE ENGENHARIA DE COMPUTAÇÃO E AUTOMAÇÃO</center>\n",
    "<center>DISCIPLINA DE PROCESSAMENTO DIGITAL DE SINAIS</center>"
   ]
  },
  {
   "cell_type": "markdown",
   "metadata": {},
   "source": [
    "<b>ALUNO:</b>  Eric Calasans de Barros \n",
    "\n",
    "<b>MAT.:  </b>20170155390\n",
    "\n",
    "<b>PROF.:  </b>Pedro Yochinori Gushiken"
   ]
  },
  {
   "cell_type": "markdown",
   "metadata": {},
   "source": [
    "<center><h1><b>PROVA - 2ª UNIDADE</b></h1></center>"
   ]
  },
  {
   "cell_type": "markdown",
   "metadata": {},
   "source": [
    "<h3>Questão 1:</h3>"
   ]
  },
  {
   "cell_type": "markdown",
   "metadata": {},
   "source": [
    "<h3>a)</h3>\n",
    "\n",
    ">Sejam os sinais $x_{a}(t) = sen(2 \\pi f_{1} t) + sen(2 \\pi f_{2} t) + sen(2 \\pi f_{3} t)$ e $x_{2}$ tal que:\n",
    "* $3 sen(2 \\pi f_{1} t)$, se $0 \\leq t < 1$\n",
    "* $3 sen(2 \\pi f_{2} t)$, se $1 \\leq t < 2$\n",
    "* $3 sen(2 \\pi f_{3} t)$, se $2 \\leq t < \\infty$\n",
    "\n",
    ">Conforme instruções dadas no escopo da prova, os valores de $f_{1}, f_{2}$ e $f_{3}$ são, respectivamente, para $a = 5, b = 3$ e $c = 9$:\n",
    "\n",
    "$$f_{1} = a = 5Hz$$\n",
    "\n",
    "$$f_{2} = 10a + b = 10.5 + 3 = 53Hz$$\n",
    "\n",
    "$$f_{3} = 100a + 10b + c = 100.5 + 10.3 + 9 = 539Hz$$\n",
    "\n",
    ">Assim, temos que os seguintes sinais:\n",
    "$$x_{a}(t) = sen(2 \\pi .5 t) + sen(2 \\pi .53 t) + sen(2 \\pi .539 t) = sen(10 \\pi t) + sen(106 \\pi t) + sen(1078 \\pi t)$$\n",
    "\n",
    ">E:\n",
    ">>>* $3 sen(10 \\pi t)$, se $0 \\leq t < 1$\n",
    ">>>* $3 sen(106 \\pi t)$, se $1 \\leq t < 2$\n",
    ">>>* $3 sen(1078 \\pi t)$, se $2 \\leq t < \\infty$\n",
    "\n",
    ">Ainda, segundo dados da prova, ambos os sinais foram amostrados a uma frequência de <b>10.000Hz</b> durante <b>3s</b>.  Dessa forma, cada amostra foi obtida a cada <b>$10^{-4}$s</b> e, em tempo discreto, obtemos $x_{1}[n]$:\n",
    "\n",
    "$$x_{1}[n] = sen(10 \\pi n) + sen(106 \\pi n) + sen(1078 \\pi n)$$ \n",
    "\n",
    "> e $x_{2}[n]:$\n",
    "\n",
    ">>>* $3 sen(10 \\pi t)$, se $0 \\leq n < 10000 $\n",
    ">>>* $3 sen(106 \\pi t)$, se $10000 \\leq n < 20000$\n",
    ">>>* $3 sen(1078 \\pi t)$, se $20000 \\leq n < 30000$\n",
    "\n",
    ">Utilizando a linguagem Python e suas bibliotecas, produzimos as sequências $x_{1}[n]$ e $x_{2}[n]$ conforme demonstrado a seguir:"
   ]
  },
  {
   "cell_type": "code",
   "execution_count": 5,
   "metadata": {},
   "outputs": [
    {
     "ename": "ModuleNotFoundError",
     "evalue": "No module named 'thinkplot'",
     "traceback": [
      "\u001b[0;31m---------------------------------------------------------------------------\u001b[0m",
      "\u001b[0;31mModuleNotFoundError\u001b[0m                       Traceback (most recent call last)",
      "\u001b[0;32m<ipython-input-5-2cfde8e16235>\u001b[0m in \u001b[0;36m<module>\u001b[0;34m\u001b[0m\n\u001b[1;32m      1\u001b[0m \u001b[0;32mimport\u001b[0m \u001b[0mnumpy\u001b[0m \u001b[0;32mas\u001b[0m \u001b[0mnp\u001b[0m\u001b[0;34m\u001b[0m\u001b[0m\n\u001b[0;32m----> 2\u001b[0;31m \u001b[0;32mfrom\u001b[0m \u001b[0mThinkDSP\u001b[0m \u001b[0;32mimport\u001b[0m \u001b[0mthinkdsp\u001b[0m\u001b[0;34m\u001b[0m\u001b[0m\n\u001b[0m\u001b[1;32m      3\u001b[0m \u001b[0;32mfrom\u001b[0m \u001b[0mThinkDSP\u001b[0m \u001b[0;32mimport\u001b[0m \u001b[0mthinkplot\u001b[0m \u001b[0;31m# Bibliotecas para PDS(https://github.com/AllenDowney/ThinkDSP)\u001b[0m\u001b[0;34m\u001b[0m\u001b[0m\n\u001b[1;32m      4\u001b[0m \u001b[0;32mimport\u001b[0m \u001b[0mscipy\u001b[0m\u001b[0;34m\u001b[0m\u001b[0m\n\u001b[1;32m      5\u001b[0m \u001b[0;32mimport\u001b[0m \u001b[0mmath\u001b[0m\u001b[0;34m\u001b[0m\u001b[0m\n",
      "\u001b[0;32m~/Documents/Estudos/Python/P2/ThinkDSP/thinkdsp.py\u001b[0m in \u001b[0;36m<module>\u001b[0;34m\u001b[0m\n\u001b[1;32m     19\u001b[0m \u001b[0;32mimport\u001b[0m \u001b[0mstruct\u001b[0m\u001b[0;34m\u001b[0m\u001b[0m\n\u001b[1;32m     20\u001b[0m \u001b[0;32mimport\u001b[0m \u001b[0msubprocess\u001b[0m\u001b[0;34m\u001b[0m\u001b[0m\n\u001b[0;32m---> 21\u001b[0;31m \u001b[0;32mimport\u001b[0m \u001b[0mthinkplot\u001b[0m\u001b[0;34m\u001b[0m\u001b[0m\n\u001b[0m\u001b[1;32m     22\u001b[0m \u001b[0;32mimport\u001b[0m \u001b[0mwarnings\u001b[0m\u001b[0;34m\u001b[0m\u001b[0m\n\u001b[1;32m     23\u001b[0m \u001b[0;34m\u001b[0m\u001b[0m\n",
      "\u001b[0;31mModuleNotFoundError\u001b[0m: No module named 'thinkplot'"
     ],
     "output_type": "error"
    }
   ],
   "source": [
    "import numpy as np\n",
    "from ThinkDSP import thinkdsp\n",
    "from ThinkDSP import thinkplot # Bibliotecas para PDS(https://github.com/AllenDowney/ThinkDSP)\n",
    "import scipy\n",
    "import math\n",
    "import matplotlib.pyplot as plt\n",
    "\n",
    "%matplotlib inline\n",
    "\n",
    "DOIS_PI = 2 * math.pi\n",
    "\n",
    "# Frequências calculadas conforme a matrícula\n",
    "freq1 = 10 * DOIS_PI\n",
    "freq2  = 106 * DOIS_PI\n",
    "freq3 = 1078 * DOIS_PI\n",
    "\n",
    "# Senóides \n",
    "sen1_t = thinkdsp.SinSignal(freq1)\n",
    "sen2_t = thinkdsp.SinSignal(freq2)\n",
    "sen3_t = thinkdsp.SinSignal(freq3)\n",
    "\n",
    "# Sequências x1_n e x2_n\n",
    "x1_t = sen1_t + sen2_t + sen3_t\n",
    "\n",
    "x1_n = x1_t.make_wave(duration=3, start=0, framerate=10000)\n",
    "\n",
    "sen1_n = sen1_t.make_wave(duration=1, start=0, framerate=10000) \n",
    "sen2_n = sen2_t.make_wave(duration=1, start=1, framerate=10000)\n",
    "sen3_n = sen3_t.make_wave(duration=1, start=2, framerate=10000)\n",
    "\n",
    "x2_n = sen1_n + sen2_n + sen3_n\n",
    "\n",
    "x2_n.plot()\n",
    "plt.show()"
   ]
  },
  {
   "cell_type": "markdown",
   "metadata": {},
   "source": [
    "<h3>b)</h3>\n",
    "\n",
    ">Sejam:\n",
    "\n",
    ">>* $\\Omega_{1} = 2 \\pi f_{1} = 10 \\pi$\n",
    ">>* $\\Omega_{2} = 2 \\pi f_{2} = 106 \\pi$\n",
    ">>* $\\Omega_{3} = 2 \\pi f_{3} = 1078 \\pi$\n",
    "\n",
    ">Pela tabela de <b>DTFT</b> e considerando $\\Omega$ <b>limitado em banda</b>, tal que $|\\Omega| < \\pi$:\n",
    "$$X(\\Omega) = \\frac{\\pi}{j} [\\delta (\\Omega - \\Omega_{0}) - \\delta (\\Omega + \\Omega_{0})]$$\n",
    "\n",
    ">Utilizando a propriedade da **LINEARIDADE**(homogeneidade e superposição) da DTFT:\n",
    "$$X_{1}(\\Omega) = \\frac{\\pi}{j} \\{[\\delta (\\Omega - \\Omega_{1}) - \\delta (\\Omega + \\Omega_{1})] + [\\delta (\\Omega - \\Omega_{2}) - \\delta (\\Omega + \\Omega_{2})] + [\\delta (\\Omega - \\Omega_{3}) - \\delta (\\Omega + \\Omega_{3})]\\}$$\n",
    "$$X_{1}(\\Omega) = \\frac{\\pi}{j} \\{[\\delta (\\Omega - 10 \\pi) - \\delta (\\Omega + 10 \\pi)] + [\\delta (\\Omega - 106 \\pi) - \\delta (\\Omega + 106 \\pi)] + [\\delta (\\Omega - 1078 \\pi) - \\delta (\\Omega + 1078 \\pi)]\\}$$\n",
    "\n",
    ">Para $X_{2}(\\Omega)$:\n",
    ">>>* $\\frac{\\pi}{j} [\\delta (\\Omega - 106 \\pi) - \\delta (\\Omega + 106 \\pi)]$, para $0 \\leq n < 10.000$\n",
    ">>>* $\\frac{\\pi}{j} [\\delta (\\Omega - 106 \\pi) - \\delta (\\Omega + 106 \\pi)]$, para $10.000 \\leq n < 20.000$\n",
    ">>>* $\\frac{\\pi}{j} [\\delta (\\Omega - 1078 \\pi) - \\delta (\\Omega + 1078 \\pi)]$, para $20.000 \\leq n < 30.000$"
   ]
  },
  {
   "cell_type": "markdown",
   "metadata": {},
   "source": []
  },
  {
   "cell_type": "code",
   "execution_count": null,
   "metadata": {},
   "outputs": [],
   "source": []
  }
 ],
 "metadata": {
  "kernelspec": {
   "display_name": "Python 2",
   "language": "python",
   "name": "python2"
  },
  "language_info": {
   "codemirror_mode": {
    "name": "ipython",
    "version": 2
   },
   "file_extension": ".py",
   "mimetype": "text/x-python",
   "name": "python",
   "nbconvert_exporter": "python",
   "pygments_lexer": "ipython2",
   "version": "2.7.6"
  }
 },
 "nbformat": 4,
 "nbformat_minor": 0
}
